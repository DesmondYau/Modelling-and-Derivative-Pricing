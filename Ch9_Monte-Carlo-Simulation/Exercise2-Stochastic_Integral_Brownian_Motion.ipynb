{
 "cells": [
  {
   "cell_type": "code",
   "execution_count": 13,
   "id": "14bfd282-d1e5-4fe7-9642-9e515319cc41",
   "metadata": {},
   "outputs": [],
   "source": [
    "import numpy as np\n",
    "import matplotlib.pyplot as plt"
   ]
  },
  {
   "cell_type": "markdown",
   "id": "0074c123-bcdc-47b1-9f40-c1aecb7bff7a",
   "metadata": {},
   "source": [
    "This is just a simple simulation exercise to <B>simulate the following Stochastic Integral</B> and calculate its <B>mean</B> and <B>variance</B>\n",
    "$$\\int_0^2 W(s)\\, dW(s)$$"
   ]
  },
  {
   "cell_type": "markdown",
   "id": "cef1c46f-23a9-4982-b104-7d9c0e9171f2",
   "metadata": {},
   "source": [
    "#### 1. Define function for computing integral"
   ]
  },
  {
   "cell_type": "code",
   "execution_count": 14,
   "id": "431a0f2f-2e05-4334-8470-e3d3f7cafffe",
   "metadata": {},
   "outputs": [],
   "source": [
    "def compute_integral(no_of_paths, no_of_steps, T, g):\n",
    "    Z = np.random.normal(0.0, 1.0, [no_of_paths, no_of_steps])\n",
    "    W = np.zeros([no_of_paths, no_of_steps+1])\n",
    "    I = np.zeros([no_of_paths, no_of_steps+1])\n",
    "    time = np.zeros([no_of_steps+1])\n",
    "\n",
    "    dt = T / float(no_of_steps)\n",
    "    \n",
    "    for i in range(0, no_of_steps):\n",
    "        Z[:,i] = (Z[:,i] - np.mean(Z[:,i])) / np.std(Z[:,i])\n",
    "        W[:,i+1] = W[:,i] + (dt ** 0.5) * Z[:,i]\n",
    "        I[:,i+1] = I[:,i] + g(W[:,i]) * (W[:,i+1] - W[:,i])\n",
    "        time[i+1] = time[i] + dt\n",
    "\n",
    "    paths = {\"time\": time, \"W\": W, \"I\": I}\n",
    "    return paths"
   ]
  },
  {
   "cell_type": "markdown",
   "id": "822c4831-78e8-431e-8f5d-3aa7fa5b6419",
   "metadata": {},
   "source": [
    "#### 2. Setting parameters"
   ]
  },
  {
   "cell_type": "code",
   "execution_count": 15,
   "id": "7786fb9f-277f-4d99-9f46-d60004896671",
   "metadata": {},
   "outputs": [],
   "source": [
    "no_of_paths = 10000\n",
    "no_of_steps = 1000\n",
    "T = 2\n",
    "g = lambda t: t\n",
    "\n",
    "output = compute_integral(no_of_paths, no_of_steps, T, g)\n",
    "time = output[\"time\"]\n",
    "I = output[\"I\"]"
   ]
  },
  {
   "cell_type": "markdown",
   "id": "1c4ccae1-88fd-4547-8bf2-78d2cc4dedd6",
   "metadata": {},
   "source": [
    "#### 3. Visualizing result"
   ]
  },
  {
   "cell_type": "code",
   "execution_count": 16,
   "id": "5149ba16-af2c-421e-8dde-0866e9fa1bfb",
   "metadata": {},
   "outputs": [
    {
     "data": {
      "text/plain": [
       "Text(0.5, 1.0, 'Stochastic Integral')"
      ]
     },
     "execution_count": 16,
     "metadata": {},
     "output_type": "execute_result"
    },
    {
     "data": {
      "image/png": "[encoded data removed]",
      "text/plain": [
       "<Figure size 640x480 with 1 Axes>"
      ]
     },
     "metadata": {},
     "output_type": "display_data"
    }
   ],
   "source": [
    "plt.figure(1)\n",
    "plt.grid()\n",
    "plt.hist(I[:, -1], 50)\n",
    "plt.xlabel(\"time\")\n",
    "plt.ylabel(\"value\")\n",
    "plt.title(\"Stochastic Integral\")"
   ]
  },
  {
   "cell_type": "markdown",
   "id": "b91e671a-f934-408c-9f5b-a9245c7e8fcf",
   "metadata": {},
   "source": [
    "#### 4. Result summary"
   ]
  },
  {
   "cell_type": "code",
   "execution_count": 17,
   "id": "46fedc79-9a2b-48ec-a17d-ae1d69e79623",
   "metadata": {},
   "outputs": [
    {
     "name": "stdout",
     "output_type": "stream",
     "text": [
      "Mean = 0.01065410844744634 and variance = 1.9794595401897193\n"
     ]
    }
   ],
   "source": [
    "mean = np.mean(I[:,-1])\n",
    "variance = np.var(I[:,-1])\n",
    "print(f'Mean = {mean} and variance = {variance}')"
   ]
  }
 ],
 "metadata": {
  "kernelspec": {
   "display_name": "Python 3 (ipykernel)",
   "language": "python",
   "name": "python3"
  },
  "language_info": {
   "codemirror_mode": {
    "name": "ipython",
    "version": 3
   },
   "file_extension": ".py",
   "mimetype": "text/x-python",
   "name": "python",
   "nbconvert_exporter": "python",
   "pygments_lexer": "ipython3",
   "version": "3.13.1"
  }
 },
 "nbformat": 4,
 "nbformat_minor": 5
}

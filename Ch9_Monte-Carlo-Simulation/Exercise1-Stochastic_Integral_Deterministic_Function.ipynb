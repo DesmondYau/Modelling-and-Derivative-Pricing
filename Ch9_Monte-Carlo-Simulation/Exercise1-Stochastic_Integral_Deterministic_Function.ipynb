{
 "cells": [
  {
   "cell_type": "code",
   "execution_count": 19,
   "id": "6b67376a-6478-46dd-9a0e-384f639c6747",
   "metadata": {},
   "outputs": [],
   "source": [
    "import numpy as np\n",
    "import matplotlib.pyplot as plt"
   ]
  },
  {
   "cell_type": "markdown",
   "id": "87b18d9f-c0a6-45c1-b1e8-34e1d5d11b54",
   "metadata": {},
   "source": [
    "#### 0. Idea"
   ]
  },
  {
   "cell_type": "markdown",
   "id": "21577f26-ce91-404e-8554-255046ffcda1",
   "metadata": {},
   "source": [
    "This is just a simple simulation exercise to <B>simulate the following Stochastic Integral</B> and calculate its <B>mean</B> and <B>variance</B>\n",
    "\n",
    "$$\\int_0^1 t^2 \\, dW(t)$$"
   ]
  },
  {
   "cell_type": "markdown",
   "id": "0fc18fcf-cde0-4826-a31e-67c9c5921e6a",
   "metadata": {},
   "source": [
    "#### 1. Define function for computing integral"
   ]
  },
  {
   "cell_type": "code",
   "execution_count": 20,
   "id": "54341141-22cd-4fdf-ae08-0b9a0e52ef9c",
   "metadata": {},
   "outputs": [],
   "source": [
    "def ComputeIntegral(no_of_paths, no_of_steps, T, g):\n",
    "    z = np.random.normal(0.0, 1.0, [no_of_paths, no_of_steps])\n",
    "    W = np.zeros([no_of_paths, no_of_steps+1])\n",
    "    I = np.zeros([no_of_paths, no_of_steps+1])\n",
    "    time = np.zeros([no_of_steps+1])\n",
    "\n",
    "    dt = T / float(no_of_steps)\n",
    "    \n",
    "    for i in range(0, no_of_steps):\n",
    "        z[:,i] = (z[:,i] - np.mean(z[:,i])) / np.std(z[:,i])\n",
    "        W[:,i+1] = W[:,i] + (dt ** 0.5) * z[:,i]\n",
    "        I[:,i+1] = I[:,i] + g(time[i]) * (W[:,i+1] - W[:,i])\n",
    "        time[i+1] = time[i] + dt\n",
    "\n",
    "    paths = {\"time\": time, \"W\": W, \"I\": I}\n",
    "    return paths"
   ]
  },
  {
   "cell_type": "markdown",
   "id": "f67e5692-986c-4416-a703-16e7cdd6f1e1",
   "metadata": {},
   "source": [
    "#### 2. Setting parameters"
   ]
  },
  {
   "cell_type": "code",
   "execution_count": 21,
   "id": "91e041f1-4cdc-49de-8691-b132b756607d",
   "metadata": {},
   "outputs": [],
   "source": [
    "no_of_paths = 10000\n",
    "no_of_steps = 1000\n",
    "T = 1\n",
    "g = lambda t: t**2\n",
    "\n",
    "output = ComputeIntegral(no_of_paths, no_of_steps, T, g)\n",
    "time = output[\"time\"]\n",
    "I = output[\"I\"]"
   ]
  },
  {
   "cell_type": "markdown",
   "id": "f446f4b7-2d4f-47db-89a2-c25d37c4b428",
   "metadata": {},
   "source": [
    "#### 3. Visualizing result"
   ]
  },
  {
   "cell_type": "code",
   "execution_count": 22,
   "id": "995aab7e-ae57-4020-9924-a9a1718f300b",
   "metadata": {},
   "outputs": [
    {
     "data": {
      "text/plain": [
       "Text(0.5, 1.0, 'Stochastic Integral')"
      ]
     },
     "execution_count": 22,
     "metadata": {},
     "output_type": "execute_result"
    },
    {
     "data": {
      "image/png": "[encoded data removed]",
      "text/plain": [
       "<Figure size 640x480 with 1 Axes>"
      ]
     },
     "metadata": {},
     "output_type": "display_data"
    }
   ],
   "source": [
    "plt.figure(1)\n",
    "plt.grid()\n",
    "plt.hist(I[:, -1], 50)\n",
    "plt.xlabel(\"time\")\n",
    "plt.ylabel(\"value\")\n",
    "plt.title(\"Stochastic Integral\")"
   ]
  },
  {
   "cell_type": "markdown",
   "id": "acd5112f-7e87-44f7-9580-82e8de83731f",
   "metadata": {},
   "source": [
    "#### 4. Result summary"
   ]
  },
  {
   "cell_type": "code",
   "execution_count": 26,
   "id": "0862711a-a7ae-41bc-9c68-c007667d47b2",
   "metadata": {},
   "outputs": [
    {
     "name": "stdout",
     "output_type": "stream",
     "text": [
      "Mean = -9.237055564881302e-18 and variance = 0.19444643621427057\n"
     ]
    }
   ],
   "source": [
    "mean = np.mean(I[:,-1])\n",
    "variance = np.var(I[:,-1])\n",
    "print(f'Mean = {mean} and variance = {variance}')"
   ]
  }
 ],
 "metadata": {
  "kernelspec": {
   "display_name": "Python 3 (ipykernel)",
   "language": "python",
   "name": "python3"
  },
  "language_info": {
   "codemirror_mode": {
    "name": "ipython",
    "version": 3
   },
   "file_extension": ".py",
   "mimetype": "text/x-python",
   "name": "python",
   "nbconvert_exporter": "python",
   "pygments_lexer": "ipython3",
   "version": "3.13.1"
  }
 },
 "nbformat": 4,
 "nbformat_minor": 5
}
